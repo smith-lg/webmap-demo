{
 "cells": [
  {
   "cell_type": "raw",
   "id": "79a86592-8e20-48a4-a1cc-dd69afced862",
   "metadata": {},
   "source": [
    "---\n",
    "title: \"Accessing PostGIS with Python\"\n",
    "author: \"Lindsey Smith\"\n",
    "---"
   ]
  },
  {
   "cell_type": "markdown",
   "id": "1c39a9ed",
   "metadata": {},
   "source": [
    "In this code, the [psycopg2](https://www.psycopg.org/docs/) library is used to access spatial and non-spatial data from a PostgreSQL database. \n",
    "\n",
    "In order to establish a connection with the database and successfully access data using **psycopg2**, the execution environment of the Python script or Jupyter Notebook must align with the hosting environment of the target database. For example, if the database is hosted locally (e.g., on your machine), ensure that the Python code using psycopg2 is executed within this local environment. I recommend installing and using tools such as [Anaconda Navigator](https://docs.anaconda.com/free/navigator/index.html) or [Jupyter Labs](https://jupyter.org/install) to maintain this consistency.\n",
    "\n",
    "Note that you will not be able to establish a connection with a database on your local machine if working in The University of Toronto's Jupyter Hub.\n",
    "\n",
    "- <a href=\"spatialdb-python.ipynb\" download>Here is the link to download this notebook</a>"
   ]
  },
  {
   "cell_type": "code",
   "execution_count": null,
   "id": "673135b5",
   "metadata": {},
   "outputs": [],
   "source": [
    "# If not already installed\n",
    "!pip install psycopg2-binary"
   ]
  },
  {
   "cell_type": "code",
   "execution_count": null,
   "id": "5e154ada",
   "metadata": {},
   "outputs": [],
   "source": [
    "pip install geopandas"
   ]
  },
  {
   "cell_type": "code",
   "execution_count": null,
   "id": "cb60fbb0",
   "metadata": {},
   "outputs": [],
   "source": [
    "# Import required libraries\n",
    "import psycopg2\n",
    "import pandas as pd  \n",
    "import geopandas as gpd"
   ]
  },
  {
   "cell_type": "markdown",
   "id": "3dc7613d",
   "metadata": {},
   "source": [
    "### 1. Establish a connection and access the data from the database"
   ]
  },
  {
   "cell_type": "code",
   "execution_count": null,
   "id": "d1b9d74f",
   "metadata": {},
   "outputs": [],
   "source": [
    "# Create variables for database connection parameters\n",
    "dbname = \"libraries\"\n",
    "user = \"postgres\"\n",
    "#password = \"\"\n",
    "host = \"localhost\"\n",
    "port = \"5432\""
   ]
  },
  {
   "cell_type": "code",
   "execution_count": null,
   "id": "78021d4b-244d-4a4a-8adf-e239d4c273de",
   "metadata": {},
   "outputs": [],
   "source": [
    "# Establish a connection to the database\n",
    "# Add paramter password=password if needed\n",
    "conn = psycopg2.connect(dbname=dbname, user=user, host=host, port=port)"
   ]
  },
  {
   "cell_type": "code",
   "execution_count": null,
   "id": "9f9599d8-c201-4526-85c5-a9241348ed75",
   "metadata": {},
   "outputs": [],
   "source": [
    "# Create a cursor object to interact with the database\n",
    "cur = conn.cursor()"
   ]
  },
  {
   "cell_type": "code",
   "execution_count": null,
   "id": "2b99c2e1-351e-4608-9240-7efc7b8a1fde",
   "metadata": {},
   "outputs": [],
   "source": [
    "# Example query: get library names and ST_AsText of their geometries\n",
    "query = \"\"\"\n",
    "SELECT branchcode, ST_AsText(geom) AS geom_wkt\n",
    "FROM librarypnts\n",
    "LIMIT 5;\n",
    "\"\"\"\n",
    "\n",
    "# Execute the query\n",
    "cur.execute(query)\n",
    "\n",
    "# Fetch the results and store in a new variable\n",
    "results = cur.fetchall()"
   ]
  },
  {
   "cell_type": "code",
   "execution_count": null,
   "id": "94e116e6-0e58-4799-9798-fe49bd4d2d36",
   "metadata": {},
   "outputs": [],
   "source": [
    "# Take a quick look at the results\n",
    "for row in results:\n",
    "    print(row)"
   ]
  },
  {
   "cell_type": "markdown",
   "id": "b080093e",
   "metadata": {},
   "source": [
    "### 2. Store the queried data in a dataframe\n",
    "For further analysis, it's helpful to store data in a dataframe. If the data are non-spatial, a [pandas dataframe](https://pandas.pydata.org/docs/reference/frame.html) is appropriate, but if the data include a geometry field then a [geopandas dataframe](https://geopandas.org/en/stable/docs/reference/geodataframe.html) must be used."
   ]
  },
  {
   "cell_type": "code",
   "execution_count": null,
   "id": "f6116826",
   "metadata": {},
   "outputs": [],
   "source": [
    "## Store non-spatial data in pandas dataframe\n",
    "\n",
    "# Extract column names from the cursor description (cur.description) and store them in a list \n",
    "column_names = [desc[0] for desc in cur.description]\n",
    "\n",
    "# Create a pandas DataFrame with the fetched results and column names\n",
    "df = pd.DataFrame(results, columns=column_names)\n",
    "\n",
    "# View the dataframe\n",
    "df"
   ]
  },
  {
   "cell_type": "markdown",
   "id": "dde51d88",
   "metadata": {},
   "source": [
    "Note that if you store a geometry field within a pandas dataframe, the data type of the field (accessible using df.dtype) will be an **object** for storing strings (text values).\n",
    "\n",
    "In order to store spatial data in a geopandas dataframe, data can be converted from WKB or WKT into a format compatible with geopandas. To check whether data are in WKB or WKT, look at the values in the geometry field in the pandas dataframe above.\n",
    "\n",
    "WKB is a binary format representing geometry data as a sequence of hexadecimal values (e.g., 0101000000...)\n",
    "WKT data often starts with a specific geometry type, such as POINT, LINESTRING, POLYGON, etc., followed by the coordinates that define the geometry (e.g., POINT (30 10))"
   ]
  },
  {
   "cell_type": "code",
   "execution_count": null,
   "id": "4c548f28",
   "metadata": {},
   "outputs": [],
   "source": [
    "## Store spatial data in geopandas dataframe\n",
    "\n",
    "# Convert geometry data into a format compatible with geopandas (e.g., WKB or WKT. Adjust depending on your data)\n",
    "df['geometry'] = gpd.GeoSeries.from_wkt(df['geom_wkt'])\n",
    "\n",
    "# Create new geodpandas dataframe from the pandas dataframe, specifying the geometry column\n",
    "gdf = gpd.GeoDataFrame(df, geometry='geometry')\n",
    "\n",
    "# View the geodataframe with additional new field 'geometry'\n",
    "gdf"
   ]
  },
  {
   "cell_type": "code",
   "execution_count": null,
   "id": "156e0b75-81bf-4829-8fa4-e1f1ab74010d",
   "metadata": {},
   "outputs": [],
   "source": [
    "# Let's take a quick look at those points\n",
    "gdf.plot()"
   ]
  },
  {
   "cell_type": "markdown",
   "id": "6e97ae04",
   "metadata": {},
   "source": [
    "### 3. Save the geodataframe\n",
    "If you plan to access the queried data from another notebook, you may wish to save the data as a shapefile for future use."
   ]
  },
  {
   "cell_type": "code",
   "execution_count": null,
   "id": "85747d74",
   "metadata": {},
   "outputs": [],
   "source": [
    "# Save geodataframe to shapefile\n",
    "gdf.to_file('output.shp') # stored in same folder as python notebook"
   ]
  }
 ],
 "metadata": {
  "kernelspec": {
   "display_name": "Python 3 (ipykernel)",
   "language": "python",
   "name": "python3"
  },
  "language_info": {
   "codemirror_mode": {
    "name": "ipython",
    "version": 3
   },
   "file_extension": ".py",
   "mimetype": "text/x-python",
   "name": "python",
   "nbconvert_exporter": "python",
   "pygments_lexer": "ipython3",
   "version": "3.9.12"
  }
 },
 "nbformat": 4,
 "nbformat_minor": 5
}
